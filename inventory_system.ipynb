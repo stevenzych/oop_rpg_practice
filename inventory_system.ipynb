{
 "cells": [
  {
   "cell_type": "markdown",
   "metadata": {},
   "source": [
    "# Introduction\n",
    "\n",
    "***In progress.***\n",
    "\n",
    "This notebook looks at building a simple RPG inventory system with Python. We can imagine this inventory system as an in-game backpack, suitcase, or other similar object that contains up to X number of items, based on how many \"slots\" (spaces which an item can fill) the player has available. Any item takes up X number of slots.\n",
    "\n",
    "## Imports"
   ]
  },
  {
   "cell_type": "code",
   "execution_count": 1,
   "metadata": {},
   "outputs": [],
   "source": [
    "import numpy as np\n",
    "from varname import varname"
   ]
  },
  {
   "cell_type": "markdown",
   "metadata": {},
   "source": [
    "# `Inventory` Class\n",
    "\n",
    "This class can be thought of as the \"central hub\" of activity. It fulfills a managerial role. Adding items, removing them, and displaying them to the player are all handled by the Inventory."
   ]
  },
  {
   "cell_type": "code",
   "execution_count": 2,
   "metadata": {},
   "outputs": [],
   "source": [
    "class Inventory:\n",
    "    \n",
    "    def __init__(self, total_slots = 16, items = []):\n",
    "        self.total_slots = total_slots\n",
    "        self.items = items\n",
    "        self.used_slots = sum([x.slots for x in self.items])\n",
    "        self.open_slots = self.total_slots - self.used_slots\n",
    "        \n",
    "    def __len__(self):\n",
    "        return len(self.items)\n",
    "        \n",
    "    def update_slots(self):\n",
    "        self.used_slots = sum([x.slots for x in self.items])\n",
    "        self.open_slots = self.total_slots - self.used_slots \n",
    "        \n",
    "    def add_item(self, item):\n",
    "        # Check for Item class\n",
    "        if isinstance(item, Item):\n",
    "            if item.slots < self.open_slots: \n",
    "                self.items.append(item)\n",
    "                # self.items.sort() # Can't sort Items, figure out how\n",
    "                self.update_slots()\n",
    "            else:\n",
    "                print(\"Inventory Full\")\n",
    "        else:\n",
    "            print(\"Not An Item\")\n",
    "            \n",
    "    def remove_item(self, item):\n",
    "        if item in self.items:\n",
    "            self.items.remove(item)\n",
    "        else:\n",
    "            print(\"Item Not In Inventory\")\n",
    "            \n",
    "    def show_items(self):\n",
    "    # Not functional until varname subclass issue resolved\n",
    "        item_list = [x.varname for x in self.items]\n",
    "        item_list.sort()\n",
    "        print(item_list)"
   ]
  },
  {
   "cell_type": "markdown",
   "metadata": {},
   "source": [
    "# `Player` Class\n",
    "\n",
    "This class represents a human player. Were this to be developed into an actual RPG or videogame (or both), this is what you would \"play as.\" In our current situation, this class exists so as to show off the effects of different `Item` objects. Some can heal the player, some can harm them, and some can be equipped or unequipped."
   ]
  },
  {
   "cell_type": "code",
   "execution_count": 16,
   "metadata": {},
   "outputs": [],
   "source": [
    "class Player:\n",
    "    \n",
    "    def __init__(self, hp, inventory = None, resist = [], weak = []):\n",
    "        self.hp_max = hp\n",
    "        self.hp_current = hp\n",
    "        self.inventory = inventory\n",
    "        self.resist = resist\n",
    "        self.weak = weak\n",
    "        self.equipped = {\"legs\" : None, \"feet\" : None, \"chest\" : None,\n",
    "                         \"hand_R\" : None, \"hand_L\" : None, \"head\" : None}\n",
    "        self.stats = {'STR' : 0, 'DEX' : 0, 'CON' : 0,\n",
    "                      'INT' : 0, 'WIS' : 0, 'CHA' : 0}\n",
    "        \n",
    "    def attack(self, weapon, target):\n",
    "    # May be redundant, or could be wrapper for shoot() and swing()\n",
    "    # Passing weapon name won't work until varname issue resolved \n",
    "        pass\n",
    "    \n",
    "    def set_stats(self, stat_list):\n",
    "        # Check for number of stats\n",
    "        if len(stat_list) != 6:\n",
    "            print(\"Wrong Number Of Stats, Should Be 6\")\n",
    "        else:\n",
    "        # Assign each number through the dict\n",
    "            for i, x in zip(self.stats.keys(), stat_list):\n",
    "                self.stats[i] = x"
   ]
  },
  {
   "cell_type": "markdown",
   "metadata": {},
   "source": [
    "Example of creating a player and setting their stats:"
   ]
  },
  {
   "cell_type": "code",
   "execution_count": 17,
   "metadata": {},
   "outputs": [],
   "source": [
    "jim = Player(hp = 10)"
   ]
  },
  {
   "cell_type": "code",
   "execution_count": 18,
   "metadata": {},
   "outputs": [
    {
     "data": {
      "text/plain": [
       "{'STR': 0, 'DEX': 0, 'CON': 0, 'INT': 0, 'WIS': 0, 'CHA': 0}"
      ]
     },
     "execution_count": 18,
     "metadata": {},
     "output_type": "execute_result"
    }
   ],
   "source": [
    "jim.stats"
   ]
  },
  {
   "cell_type": "code",
   "execution_count": 19,
   "metadata": {},
   "outputs": [],
   "source": [
    "jim.set_stats([10,12,23,24,25,26])"
   ]
  },
  {
   "cell_type": "code",
   "execution_count": 20,
   "metadata": {},
   "outputs": [
    {
     "data": {
      "text/plain": [
       "{'STR': 10, 'DEX': 12, 'CON': 23, 'INT': 24, 'WIS': 25, 'CHA': 26}"
      ]
     },
     "execution_count": 20,
     "metadata": {},
     "output_type": "execute_result"
    }
   ],
   "source": [
    "jim.stats"
   ]
  },
  {
   "cell_type": "markdown",
   "metadata": {},
   "source": [
    "How `set_stats()` works more concretely:"
   ]
  },
  {
   "cell_type": "code",
   "execution_count": 10,
   "metadata": {},
   "outputs": [
    {
     "name": "stdout",
     "output_type": "stream",
     "text": [
      "{'A': 5, 'B': 6, 'C': 7}\n"
     ]
    }
   ],
   "source": [
    "xxx = {'A':1,'B':2,'C':3}\n",
    "other_list = [5,6,7]\n",
    "for i, x in zip(xxx.keys(), other_list):\n",
    "    xxx[i] = x\n",
    "print(xxx)"
   ]
  },
  {
   "cell_type": "markdown",
   "metadata": {},
   "source": [
    "# `Item` Class\n",
    "\n",
    "This class is very skeletal on purpose. It resembles the most basic abstraction of what an item *can* be. It only has `slots` and a `varname` (which returns the name of the variable itself, in a meta-programmatic way), the two pieces of information that every item surely will have.\n",
    "\n",
    "> ***Status 01/19/21:*** *Implementing varname proves fraught with error when coupled with inheritance. Works fine on `Item` but breaks on next generation. Contacted the library's dev to investigate why I cannot retrieve varnames from subclasses. Until resolved, the attribute `varname` is being commented out of `Item`.*"
   ]
  },
  {
   "cell_type": "code",
   "execution_count": 22,
   "metadata": {},
   "outputs": [],
   "source": [
    "class Item:\n",
    "\n",
    "    def __init__(self, slots = 1):\n",
    "        self.slots = slots\n",
    "        # self.varname = varname()"
   ]
  },
  {
   "cell_type": "code",
   "execution_count": 15,
   "metadata": {},
   "outputs": [],
   "source": [
    "# a = Item()\n",
    "# a.varname"
   ]
  },
  {
   "cell_type": "code",
   "execution_count": 6,
   "metadata": {},
   "outputs": [],
   "source": [
    "## EXAMPLE DOES NOT WORK\n",
    "# class Child(Item):\n",
    "    \n",
    "#     def __init__(self, slots = 1):\n",
    "#         super().__init__(slots)\n",
    "#         self.varname = varname()\n",
    "        \n",
    "# child = Child()"
   ]
  },
  {
   "cell_type": "markdown",
   "metadata": {},
   "source": [
    "## `Item` And `Inventory` Basic Interactions"
   ]
  },
  {
   "cell_type": "markdown",
   "metadata": {},
   "source": [
    "Example of adding items and summing inventory:"
   ]
  },
  {
   "cell_type": "code",
   "execution_count": 7,
   "metadata": {},
   "outputs": [
    {
     "data": {
      "text/plain": [
       "0"
      ]
     },
     "execution_count": 7,
     "metadata": {},
     "output_type": "execute_result"
    }
   ],
   "source": [
    "# Two items exist but have not been added to our Inventory\n",
    "\n",
    "a = Item(2)\n",
    "b = Item(3)\n",
    "\n",
    "# See, no used slots\n",
    "\n",
    "inv = Inventory()\n",
    "inv.used_slots"
   ]
  },
  {
   "cell_type": "code",
   "execution_count": 8,
   "metadata": {},
   "outputs": [
    {
     "data": {
      "text/plain": [
       "16"
      ]
     },
     "execution_count": 8,
     "metadata": {},
     "output_type": "execute_result"
    }
   ],
   "source": [
    "# We have sixteen slots to fill\n",
    "\n",
    "inv.open_slots"
   ]
  },
  {
   "cell_type": "code",
   "execution_count": 9,
   "metadata": {},
   "outputs": [
    {
     "data": {
      "text/plain": [
       "5"
      ]
     },
     "execution_count": 9,
     "metadata": {},
     "output_type": "execute_result"
    }
   ],
   "source": [
    "# We add two Items that take up five slots total and see that reflected\n",
    "\n",
    "inv.add_item(a)\n",
    "inv.add_item(b)\n",
    "\n",
    "inv.used_slots"
   ]
  },
  {
   "cell_type": "code",
   "execution_count": 10,
   "metadata": {},
   "outputs": [
    {
     "name": "stdout",
     "output_type": "stream",
     "text": [
      "Inventory Full\n"
     ]
    }
   ],
   "source": [
    "# Let's try and overload our Inventory with a big Item\n",
    "\n",
    "c = Item(20)\n",
    "\n",
    "inv.add_item(c)"
   ]
  },
  {
   "cell_type": "code",
   "execution_count": 11,
   "metadata": {},
   "outputs": [
    {
     "data": {
      "text/plain": [
       "5"
      ]
     },
     "execution_count": 11,
     "metadata": {},
     "output_type": "execute_result"
    }
   ],
   "source": [
    "# Voila! We stopped it from overloading and stayed at the same slots\n",
    "\n",
    "inv.used_slots"
   ]
  },
  {
   "cell_type": "markdown",
   "metadata": {},
   "source": [
    "## `Item` Subclasses\n",
    "\n",
    "These subclasses begin to break `Item` into different groups. We can view `Item` as a family tree:\n",
    "\n",
    "- `Item`\n",
    "    - `Potion`\n",
    "    - `Ammo`\n",
    "    - `Weapon`\n",
    "        - `Blaster`\n",
    "        - `Sword` (upcoming)\n",
    "    - `Equip` (upcoming)\n",
    "        - `Armor` (upcoming)\n",
    "        - `Accessory` (upcoming)\n",
    "        \n",
    "Each `Item` subclass is capable of a different set of methods, and has a different set of attributes. The third-generation subclasses, such as `Blaster`, become highly specialized."
   ]
  },
  {
   "cell_type": "markdown",
   "metadata": {},
   "source": [
    "### `Potion`\n",
    "\n",
    "Just like in a fantasy setting, potions are items that heal a creature. Some potions have a special effect as well, which is just provided as a text print out for the time being, but will later be turned into a status effect on class `Player`.\n",
    "\n",
    "> ***Status 01/19/21:*** *Need to incorporate `Player` class by first making it, and then giving it stats that can be altered by `Potion` objects.*"
   ]
  },
  {
   "cell_type": "code",
   "execution_count": 38,
   "metadata": {},
   "outputs": [],
   "source": [
    "class Potion(Item):\n",
    "    def __init__(self, slots = 1, heal_amount = 5, effect = False):\n",
    "        super().__init__(slots)\n",
    "        self.heal_amount = heal_amount\n",
    "        self.effect = effect\n",
    "    \n",
    "    def special_effect():\n",
    "    # Gives player special effect\n",
    "        pass\n",
    "    \n",
    "    def heal(self, player):\n",
    "    # Heals player\n",
    "        player.hp_current += self.heal_amount\n",
    "        if player.hp_current > player.hp_max:\n",
    "            player.hp_current = player.hp_max\n",
    "        else:\n",
    "            pass"
   ]
  },
  {
   "cell_type": "markdown",
   "metadata": {},
   "source": [
    "Example of `heal()` on a `Player`:"
   ]
  },
  {
   "cell_type": "code",
   "execution_count": 44,
   "metadata": {},
   "outputs": [],
   "source": [
    "potion = Potion(heal_amount = 5)\n",
    "jim = Player(hp = 15)"
   ]
  },
  {
   "cell_type": "code",
   "execution_count": 45,
   "metadata": {},
   "outputs": [
    {
     "data": {
      "text/plain": [
       "8"
      ]
     },
     "execution_count": 45,
     "metadata": {},
     "output_type": "execute_result"
    }
   ],
   "source": [
    "jim.hp_current -= 7\n",
    "jim.hp_current"
   ]
  },
  {
   "cell_type": "code",
   "execution_count": 46,
   "metadata": {},
   "outputs": [
    {
     "data": {
      "text/plain": [
       "13"
      ]
     },
     "execution_count": 46,
     "metadata": {},
     "output_type": "execute_result"
    }
   ],
   "source": [
    "potion.heal(player = jim)\n",
    "jim.hp_current"
   ]
  },
  {
   "cell_type": "markdown",
   "metadata": {},
   "source": [
    "### `Ammo`\n",
    "\n",
    "`Ammo` for `Blaster` objects can be thought of as a magazine for a firearm, a cell of energy for a lazer blaster, or a similar source of projectiles/energy. When an object of type `Ammo` has its `has` become `0`, it should be destroyed."
   ]
  },
  {
   "cell_type": "code",
   "execution_count": 18,
   "metadata": {},
   "outputs": [],
   "source": [
    "class Ammo(Item):\n",
    "    def __init__(self, type_, slots = 1, holds = 8, has = 8):\n",
    "        super().__init__(slots)\n",
    "        self.type_ = type_\n",
    "        self.holds = holds\n",
    "        self.has = has\n",
    "        self.slots = slots\n",
    "        self.varname = varname()\n",
    "        \n",
    "    def consolidate_ammo(self, other_ammo):\n",
    "    # Combine two mags of the same ammo\n",
    "    # The second mag is not destroyed, leaving option to be refilled later\n",
    "        pass"
   ]
  },
  {
   "cell_type": "markdown",
   "metadata": {},
   "source": [
    "### `Weapon`\n",
    "\n",
    "A `Weapon` is an `Item` that exists to harm a `Creature`. The two main kinds are `Blaster` (long-range) and `Sword` (close-range). The method `do_damage()` is provided in the parent class `Weapon` to make attack resolution easier to write in the subclasses, and to keep the code dry.\n",
    "\n",
    "Also, an `element` in this context is something magical like \"fire\" or \"lightning\" and not \"helium\" or \"potassium.\""
   ]
  },
  {
   "cell_type": "code",
   "execution_count": 48,
   "metadata": {},
   "outputs": [],
   "source": [
    "class Weapon(Item):\n",
    "    def __init__(self, slots = 2, damage = 1, element = \"normal\",\n",
    "                 special = False):\n",
    "        super().__init__(slots)\n",
    "        self.damage = damage\n",
    "        self.element = element\n",
    "        self.special = special\n",
    "        \n",
    "    def do_damage(self, target):\n",
    "        if self.element in target.weak:\n",
    "            target.hp_current -= (self.damage * 2)\n",
    "        elif self.element in target.resist:\n",
    "            target.hp_current -= (self.damage // 2)\n",
    "        else:\n",
    "            target.hp_current -= self.damage"
   ]
  },
  {
   "cell_type": "markdown",
   "metadata": {},
   "source": [
    "#### `Blaster`\n",
    "\n",
    "Again, this represents a ranged weapon in-game. Its main features are that it requires ammunition, range calculations, and reloading."
   ]
  },
  {
   "cell_type": "code",
   "execution_count": 49,
   "metadata": {},
   "outputs": [],
   "source": [
    "class Blaster(Weapon):\n",
    "    def __init__(self, slots = 2, damage = 1, element = \"normal\",\n",
    "                 special = False, range_ = 75, mag = 8, ammo = \"steel\",\n",
    "                 accuracy = 0.6):\n",
    "        super().__init__(slots, damage, element, special)\n",
    "        self.range_ = range_\n",
    "        self.mag = mag\n",
    "        self.mag_status = mag\n",
    "        self.ammo = ammo\n",
    "        self.accuracy = accuracy\n",
    "        \n",
    "    def shoot(self, target, distance):\n",
    "        # Check if have ammo\n",
    "        if self.mag_status > 0:\n",
    "            # Check if target in range\n",
    "            if distance < self.range_:\n",
    "                # \"Roll\" to hit\n",
    "                if np.random.random() < self.accuracy:\n",
    "                    # Deal damage\n",
    "                    self.do_damage(target)\n",
    "                    # Decrement ammo\n",
    "                    self.mag_status -= 1\n",
    "                    print(\"Successful Hit\")\n",
    "                else:\n",
    "                    self.mag_status -= 1\n",
    "                    print(\"You Shot And Missed\")\n",
    "            else:\n",
    "                print(\"Target Out Of Range\")\n",
    "        else:\n",
    "            print(\"Out Of Ammo\")\n",
    "            \n",
    "    def reload(self, ammo_source, inventory):\n",
    "        # Check for object type\n",
    "        if isinstance(ammo_source, Ammo):\n",
    "            # Check for in-game type\n",
    "            if ammo_source.type_ == self.ammo:\n",
    "                # Add ammo based on capacity of blaster\n",
    "                difference = self.mag - self.mag_status\n",
    "                # If have more ammo than need\n",
    "                if ammo_source.has > difference:\n",
    "                    self.mag_status = self.mag\n",
    "                    ammo_source.has -= difference\n",
    "                    print(f\"Reloaded - Ammo Has {ammo_source.has} Left\")\n",
    "                # If have less ammo than need\n",
    "                elif ammo_source.has <= difference:\n",
    "                    self.mag_status += ammo_source.has\n",
    "                    inventory.remove_item(ammo_source)\n",
    "                    print(\"Ammo Used Up\")\n",
    "            else:\n",
    "                print(\"Wrong Ammo Type\")\n",
    "        else:\n",
    "            print(\"That's Not Ammo\")"
   ]
  },
  {
   "cell_type": "markdown",
   "metadata": {},
   "source": [
    "##### `Blaster.reload()` Example"
   ]
  },
  {
   "cell_type": "code",
   "execution_count": 111,
   "metadata": {},
   "outputs": [],
   "source": [
    "# Create an Inventory\n",
    "\n",
    "inv_0 = Inventory(total_slots = 8)"
   ]
  },
  {
   "cell_type": "code",
   "execution_count": 112,
   "metadata": {},
   "outputs": [],
   "source": [
    "# Create Ammo\n",
    "\n",
    "steel_rounds = Ammo(slots = 1, type_ = \"steel\")"
   ]
  },
  {
   "cell_type": "code",
   "execution_count": 113,
   "metadata": {},
   "outputs": [
    {
     "data": {
      "text/plain": [
       "[<__main__.Ammo at 0x1d896785048>]"
      ]
     },
     "execution_count": 113,
     "metadata": {},
     "output_type": "execute_result"
    }
   ],
   "source": [
    "# Add Ammo to Inventory\n",
    "\n",
    "inv_0.add_item(steel_rounds)\n",
    "inv_0.items"
   ]
  },
  {
   "cell_type": "code",
   "execution_count": 114,
   "metadata": {},
   "outputs": [],
   "source": [
    "blaster = Blaster()"
   ]
  },
  {
   "cell_type": "code",
   "execution_count": 115,
   "metadata": {},
   "outputs": [],
   "source": [
    "blaster.mag_status = 2"
   ]
  },
  {
   "cell_type": "code",
   "execution_count": 116,
   "metadata": {},
   "outputs": [
    {
     "name": "stdout",
     "output_type": "stream",
     "text": [
      "Reloaded - Ammo Has 2 Left\n"
     ]
    }
   ],
   "source": [
    "blaster.reload(ammo_source = steel_rounds, inventory = inv_0)"
   ]
  },
  {
   "cell_type": "code",
   "execution_count": 117,
   "metadata": {},
   "outputs": [
    {
     "data": {
      "text/plain": [
       "2"
      ]
     },
     "execution_count": 117,
     "metadata": {},
     "output_type": "execute_result"
    }
   ],
   "source": [
    "steel_rounds.has"
   ]
  },
  {
   "cell_type": "markdown",
   "metadata": {},
   "source": [
    "#### `Sword`\n",
    "\n",
    "***Unstarted.***"
   ]
  },
  {
   "cell_type": "markdown",
   "metadata": {},
   "source": [
    "# `Creature` Class\n",
    "\n",
    "The `Creature` class is a dummy to represent any living thing that isn't the player. These objects are not the focus of the project, and more just exist to show off how the other `Item` objects can interact with them."
   ]
  },
  {
   "cell_type": "code",
   "execution_count": 50,
   "metadata": {},
   "outputs": [],
   "source": [
    "class Creature():\n",
    "\n",
    "    def __init__(self, hp, resist = [], weak = []):\n",
    "        self.hp_max = hp\n",
    "        self.hp_current = hp\n",
    "        self.resist = resist\n",
    "        self.weak = weak"
   ]
  },
  {
   "cell_type": "markdown",
   "metadata": {},
   "source": [
    "## `Creature` And `Blaster` Interactions"
   ]
  },
  {
   "cell_type": "markdown",
   "metadata": {},
   "source": [
    "Example of `Creature` and `Blaster` class interacting."
   ]
  },
  {
   "cell_type": "code",
   "execution_count": 56,
   "metadata": {},
   "outputs": [],
   "source": [
    "# Create our objects\n",
    "flame_pistol = Blaster(element = 'fire', range_ = 6)\n",
    "zombie = Creature(hp = 5, resist = [\"poison\"], weak = [\"fire\"])"
   ]
  },
  {
   "cell_type": "code",
   "execution_count": 58,
   "metadata": {},
   "outputs": [
    {
     "name": "stdout",
     "output_type": "stream",
     "text": [
      "Successful Hit\n"
     ]
    }
   ],
   "source": [
    "# Shoot the zombie\n",
    "flame_pistol.shoot(zombie, 3)"
   ]
  },
  {
   "cell_type": "code",
   "execution_count": 59,
   "metadata": {},
   "outputs": [
    {
     "data": {
      "text/plain": [
       "3"
      ]
     },
     "execution_count": 59,
     "metadata": {},
     "output_type": "execute_result"
    }
   ],
   "source": [
    "# The zombie.hp_current went down by 2, not 1, since it is weak to fire,\n",
    "# and the flame_pistol.damage is thus doubled\n",
    "zombie.hp_current"
   ]
  },
  {
   "cell_type": "code",
   "execution_count": 60,
   "metadata": {},
   "outputs": [
    {
     "data": {
      "text/plain": [
       "6"
      ]
     },
     "execution_count": 60,
     "metadata": {},
     "output_type": "execute_result"
    }
   ],
   "source": [
    "# One round fired\n",
    "flame_pistol.mag_status"
   ]
  }
 ],
 "metadata": {
  "kernelspec": {
   "display_name": "Python 3",
   "language": "python",
   "name": "python3"
  },
  "language_info": {
   "codemirror_mode": {
    "name": "ipython",
    "version": 3
   },
   "file_extension": ".py",
   "mimetype": "text/x-python",
   "name": "python",
   "nbconvert_exporter": "python",
   "pygments_lexer": "ipython3",
   "version": "3.7.6"
  },
  "toc": {
   "base_numbering": 1,
   "nav_menu": {},
   "number_sections": true,
   "sideBar": true,
   "skip_h1_title": false,
   "title_cell": "Table of Contents",
   "title_sidebar": "Contents",
   "toc_cell": false,
   "toc_position": {},
   "toc_section_display": true,
   "toc_window_display": false
  },
  "varInspector": {
   "cols": {
    "lenName": 16,
    "lenType": 16,
    "lenVar": 40
   },
   "kernels_config": {
    "python": {
     "delete_cmd_postfix": "",
     "delete_cmd_prefix": "del ",
     "library": "var_list.py",
     "varRefreshCmd": "print(var_dic_list())"
    },
    "r": {
     "delete_cmd_postfix": ") ",
     "delete_cmd_prefix": "rm(",
     "library": "var_list.r",
     "varRefreshCmd": "cat(var_dic_list()) "
    }
   },
   "types_to_exclude": [
    "module",
    "function",
    "builtin_function_or_method",
    "instance",
    "_Feature"
   ],
   "window_display": false
  }
 },
 "nbformat": 4,
 "nbformat_minor": 4
}
