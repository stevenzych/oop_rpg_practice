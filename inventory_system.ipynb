{
 "cells": [
  {
   "cell_type": "markdown",
   "metadata": {},
   "source": [
    "# Introduction\n",
    "\n",
    "***In progress.***\n",
    "\n",
    "This notebook looks at building a simple RPG inventory system with Python. We can imagine this inventory system as an in-game backpack, suitcase, or other similar object that contains up to X number of items, based on how many \"slots\" (spaces which an item can fill) the player has available. Any item takes up X number of slots.\n",
    "\n",
    "## Imports"
   ]
  },
  {
   "cell_type": "code",
   "execution_count": 10,
   "metadata": {},
   "outputs": [],
   "source": [
    "import numpy as np"
   ]
  },
  {
   "cell_type": "markdown",
   "metadata": {},
   "source": [
    "# `Inventory` Class"
   ]
  },
  {
   "cell_type": "code",
   "execution_count": 22,
   "metadata": {},
   "outputs": [],
   "source": [
    "class Inventory:\n",
    "    \n",
    "    def __init__(self, total_slots = 16, items = []):\n",
    "        self.total_slots = total_slots\n",
    "        self.items = items\n",
    "        self.used_slots = sum([x.slots for x in self.items])\n",
    "        self.open_slots = self.total_slots - self.used_slots\n",
    "        \n",
    "    def __len__(self):\n",
    "        return len(self.items)\n",
    "        \n",
    "    def update_slots(self):\n",
    "        self.used_slots = sum([x.slots for x in self.items])\n",
    "        self.open_slots = self.total_slots - self.used_slots \n",
    "        \n",
    "    def add_item(self, item):\n",
    "        # Check for Item class\n",
    "        if isinstance(item, Item):\n",
    "            if item.slots < self.open_slots: \n",
    "                self.items.append(item)\n",
    "                # self.items.sort() # Can't sort Items, figure out how\n",
    "                self.update_slots()\n",
    "            else:\n",
    "                print(\"Inventory Full\")\n",
    "        else:\n",
    "            print(\"Not An Item\")\n",
    "            \n",
    "    def remove_item(self, item):\n",
    "        if item in self.items:\n",
    "            self.items.remove(item)\n",
    "        else:\n",
    "            print(\"Item Not In Inventory\")"
   ]
  },
  {
   "cell_type": "markdown",
   "metadata": {},
   "source": [
    "# `Item` Class\n",
    "\n",
    "***Needs description.***"
   ]
  },
  {
   "cell_type": "code",
   "execution_count": 16,
   "metadata": {},
   "outputs": [],
   "source": [
    "class Item:\n",
    "\n",
    "    def __init__(self, slots = 1):\n",
    "        self.slots = slots"
   ]
  },
  {
   "cell_type": "markdown",
   "metadata": {},
   "source": [
    "# Basic Examples"
   ]
  },
  {
   "cell_type": "markdown",
   "metadata": {},
   "source": [
    "Example of adding items and summing inventory:"
   ]
  },
  {
   "cell_type": "code",
   "execution_count": 38,
   "metadata": {},
   "outputs": [
    {
     "data": {
      "text/plain": [
       "0"
      ]
     },
     "execution_count": 38,
     "metadata": {},
     "output_type": "execute_result"
    }
   ],
   "source": [
    "# Two items exist but have not been added to our Inventory\n",
    "\n",
    "a = Item(2)\n",
    "b = Item(3)\n",
    "\n",
    "# See, no used slots\n",
    "\n",
    "inv = Inventory()\n",
    "inv.used_slots"
   ]
  },
  {
   "cell_type": "code",
   "execution_count": 39,
   "metadata": {},
   "outputs": [
    {
     "data": {
      "text/plain": [
       "16"
      ]
     },
     "execution_count": 39,
     "metadata": {},
     "output_type": "execute_result"
    }
   ],
   "source": [
    "# We have sixteen slots to fill\n",
    "\n",
    "inv.open_slots"
   ]
  },
  {
   "cell_type": "code",
   "execution_count": 40,
   "metadata": {},
   "outputs": [
    {
     "data": {
      "text/plain": [
       "5"
      ]
     },
     "execution_count": 40,
     "metadata": {},
     "output_type": "execute_result"
    }
   ],
   "source": [
    "# We add two Items that take up five slots total and see that reflected\n",
    "\n",
    "inv.add_item(a)\n",
    "inv.add_item(b)\n",
    "\n",
    "inv.used_slots"
   ]
  },
  {
   "cell_type": "code",
   "execution_count": 41,
   "metadata": {},
   "outputs": [
    {
     "name": "stdout",
     "output_type": "stream",
     "text": [
      "Inventory Full\n"
     ]
    }
   ],
   "source": [
    "# Let's try and overload our Inventory with a big Item\n",
    "\n",
    "c = Item(20)\n",
    "\n",
    "inv.add_item(c)"
   ]
  },
  {
   "cell_type": "code",
   "execution_count": 42,
   "metadata": {},
   "outputs": [
    {
     "data": {
      "text/plain": [
       "5"
      ]
     },
     "execution_count": 42,
     "metadata": {},
     "output_type": "execute_result"
    }
   ],
   "source": [
    "# Voila! We stopped it from overloading and stayed at the same slots\n",
    "\n",
    "inv.used_slots"
   ]
  },
  {
   "cell_type": "markdown",
   "metadata": {},
   "source": [
    "# `Item` Subclasses\n",
    "\n",
    "***Need descriptions.***\n",
    "\n",
    "> *Note to self: Investigate why `Potion` allows `slots = 1` and the `super()`, but `Ammo` throws an error with identical syntax.*"
   ]
  },
  {
   "cell_type": "markdown",
   "metadata": {},
   "source": [
    "## `Potion`"
   ]
  },
  {
   "cell_type": "code",
   "execution_count": 83,
   "metadata": {},
   "outputs": [],
   "source": [
    "class Potion(Item):\n",
    "    def __init__(self, slots = 1, heal = False, effect = False):\n",
    "        super().__init__(slots)\n",
    "        self.heal = heal\n",
    "        self.effect = effect\n",
    "    \n",
    "    def special_effect():\n",
    "    # Gives player special effect\n",
    "        pass\n",
    "    \n",
    "    def heal():\n",
    "    # Heals player\n",
    "        pass"
   ]
  },
  {
   "cell_type": "markdown",
   "metadata": {},
   "source": [
    "## `Ammo`\n",
    "\n",
    "`Ammo` for `Blaster` objects can be thought of as a magazine for a firearm, a cell of energy for a lazer blaster, or a similar source of projectiles/energy. When an object of type `Ammo` has its `has` become `0`, it should be destroyed."
   ]
  },
  {
   "cell_type": "code",
   "execution_count": 84,
   "metadata": {},
   "outputs": [],
   "source": [
    "class Ammo(Item):\n",
    "    def __init__(self, slots, type_, holds = 8, has = 8):\n",
    "        super().__init__(slots)\n",
    "        self.type_ = type_\n",
    "        self.holds = holds\n",
    "        self.has = has\n",
    "        self.slots = slots\n",
    "        \n",
    "    def consolidate_ammo(self, other_ammo):\n",
    "    # Combine two mags of the same ammo\n",
    "        pass"
   ]
  },
  {
   "cell_type": "markdown",
   "metadata": {},
   "source": [
    "## `Weapon` And Subclasses\n",
    "\n",
    "***Needs description.***"
   ]
  },
  {
   "cell_type": "code",
   "execution_count": 48,
   "metadata": {},
   "outputs": [],
   "source": [
    "class Weapon(Item):\n",
    "    def __init__(self, slots = 2, damage = 1, element = \"normal\",\n",
    "                 special = False):\n",
    "        super().__init__(slots)\n",
    "        self.damage = damage\n",
    "        self.element = element\n",
    "        self.special = special\n",
    "        \n",
    "    def do_damage(self, target):\n",
    "        if self.element in target.weak:\n",
    "            target.hp_current -= (self.damage * 2)\n",
    "        elif self.element in target.resist:\n",
    "            target.hp_current -= (self.damage // 2)\n",
    "        else:\n",
    "            target.hp_current -= self.damage"
   ]
  },
  {
   "cell_type": "code",
   "execution_count": 49,
   "metadata": {},
   "outputs": [],
   "source": [
    "class Blaster(Weapon):\n",
    "    def __init__(self, slots = 2, damage = 1, element = \"normal\",\n",
    "                 special = False, range_ = 75, mag = 8, ammo = \"steel\",\n",
    "                 accuracy = 0.6):\n",
    "        super().__init__(slots, damage, element, special)\n",
    "        self.range_ = range_\n",
    "        self.mag = mag\n",
    "        self.mag_status = mag\n",
    "        self.ammo = ammo\n",
    "        self.accuracy = accuracy\n",
    "        \n",
    "    def shoot(self, target, distance):\n",
    "        # Check if have ammo\n",
    "        if self.mag_status > 0:\n",
    "            # Check if target in range\n",
    "            if distance < self.range_:\n",
    "                # \"Roll\" to hit\n",
    "                if np.random.random() < self.accuracy:\n",
    "                    # Deal damage\n",
    "                    self.do_damage(target)\n",
    "                    # Decrement ammo\n",
    "                    self.mag_status -= 1\n",
    "                    print(\"Successful Hit\")\n",
    "                else:\n",
    "                    self.mag_status -= 1\n",
    "                    print(\"You Shot And Missed\")\n",
    "            else:\n",
    "                print(\"Target Out Of Range\")\n",
    "        else:\n",
    "            print(\"Out Of Ammo\")\n",
    "            \n",
    "    def reload(self, ammo_source, inventory):\n",
    "        # Check for object type\n",
    "        if isinstance(ammo_source, Ammo):\n",
    "            # Check for in-game type\n",
    "            if ammo_source.type_ == self.ammo:\n",
    "                # Add ammo based on capacity of blaster\n",
    "                difference = self.mag - self.mag_status\n",
    "                # If have more ammo than need\n",
    "                if ammo_source.has > difference:\n",
    "                    self.mag_status = self.mag\n",
    "                    ammo_source.has -= difference\n",
    "                    print(f\"Reloaded - Ammo Has {ammo_source.has} Left\")\n",
    "                # If have less ammo than need\n",
    "                elif ammo_source.has <= difference:\n",
    "                    self.mag_status += ammo_source.has\n",
    "                    inventory.remove_item(ammo_source)\n",
    "                    print(\"Ammo Used Up\")\n",
    "            else:\n",
    "                print(\"Wrong Ammo Type\")\n",
    "        else:\n",
    "            print(\"That's Not Ammo\")"
   ]
  },
  {
   "cell_type": "markdown",
   "metadata": {},
   "source": [
    "## `Blaster.reload()` Example"
   ]
  },
  {
   "cell_type": "code",
   "execution_count": 111,
   "metadata": {},
   "outputs": [],
   "source": [
    "# Create an Inventory\n",
    "\n",
    "inv_0 = Inventory(total_slots = 8)"
   ]
  },
  {
   "cell_type": "code",
   "execution_count": 112,
   "metadata": {},
   "outputs": [],
   "source": [
    "# Create Ammo\n",
    "\n",
    "steel_rounds = Ammo(slots = 1, type_ = \"steel\")"
   ]
  },
  {
   "cell_type": "code",
   "execution_count": 113,
   "metadata": {},
   "outputs": [
    {
     "data": {
      "text/plain": [
       "[<__main__.Ammo at 0x1d896785048>]"
      ]
     },
     "execution_count": 113,
     "metadata": {},
     "output_type": "execute_result"
    }
   ],
   "source": [
    "# Add Ammo to Inventory\n",
    "\n",
    "inv_0.add_item(steel_rounds)\n",
    "inv_0.items"
   ]
  },
  {
   "cell_type": "code",
   "execution_count": 114,
   "metadata": {},
   "outputs": [],
   "source": [
    "blaster = Blaster()"
   ]
  },
  {
   "cell_type": "code",
   "execution_count": 115,
   "metadata": {},
   "outputs": [],
   "source": [
    "blaster.mag_status = 2"
   ]
  },
  {
   "cell_type": "code",
   "execution_count": 116,
   "metadata": {},
   "outputs": [
    {
     "name": "stdout",
     "output_type": "stream",
     "text": [
      "Reloaded - Ammo Has 2 Left\n"
     ]
    }
   ],
   "source": [
    "blaster.reload(ammo_source = steel_rounds, inventory = inv_0)"
   ]
  },
  {
   "cell_type": "code",
   "execution_count": 117,
   "metadata": {},
   "outputs": [
    {
     "data": {
      "text/plain": [
       "2"
      ]
     },
     "execution_count": 117,
     "metadata": {},
     "output_type": "execute_result"
    }
   ],
   "source": [
    "steel_rounds.has"
   ]
  },
  {
   "cell_type": "markdown",
   "metadata": {},
   "source": [
    "# `Creature` Class"
   ]
  },
  {
   "cell_type": "code",
   "execution_count": 50,
   "metadata": {},
   "outputs": [],
   "source": [
    "class Creature():\n",
    "    def __init__(self, hp, resist = [], weak = []):\n",
    "        self.hp_max = hp\n",
    "        self.hp_current = hp\n",
    "        self.resist = resist\n",
    "        self.weak = weak"
   ]
  },
  {
   "cell_type": "markdown",
   "metadata": {},
   "source": [
    "## `Creature` And `Blaster` Interactions"
   ]
  },
  {
   "cell_type": "markdown",
   "metadata": {},
   "source": [
    "Example of `Creature` and `Blaster` class interacting."
   ]
  },
  {
   "cell_type": "code",
   "execution_count": 56,
   "metadata": {},
   "outputs": [],
   "source": [
    "flame_pistol = Blaster(element = 'fire', range_ = 6)\n",
    "zombie = Creature(hp = 5, resist = [\"poison\"], weak = [\"fire\"])"
   ]
  },
  {
   "cell_type": "code",
   "execution_count": 58,
   "metadata": {},
   "outputs": [
    {
     "name": "stdout",
     "output_type": "stream",
     "text": [
      "Successful Hit\n"
     ]
    }
   ],
   "source": [
    "flame_pistol.shoot(zombie, 3)"
   ]
  },
  {
   "cell_type": "code",
   "execution_count": 59,
   "metadata": {},
   "outputs": [
    {
     "data": {
      "text/plain": [
       "3"
      ]
     },
     "execution_count": 59,
     "metadata": {},
     "output_type": "execute_result"
    }
   ],
   "source": [
    "# Notice the hp_current went down by 2, not 1, since it is weak to fire\n",
    "zombie.hp_current"
   ]
  },
  {
   "cell_type": "code",
   "execution_count": 60,
   "metadata": {},
   "outputs": [
    {
     "data": {
      "text/plain": [
       "6"
      ]
     },
     "execution_count": 60,
     "metadata": {},
     "output_type": "execute_result"
    }
   ],
   "source": [
    "flame_pistol.mag_status"
   ]
  },
  {
   "cell_type": "code",
   "execution_count": 61,
   "metadata": {},
   "outputs": [
    {
     "data": {
      "text/plain": [
       "True"
      ]
     },
     "execution_count": 61,
     "metadata": {},
     "output_type": "execute_result"
    }
   ],
   "source": [
    "isinstance(flame_pistol, Blaster)"
   ]
  }
 ],
 "metadata": {
  "kernelspec": {
   "display_name": "Python 3",
   "language": "python",
   "name": "python3"
  },
  "language_info": {
   "codemirror_mode": {
    "name": "ipython",
    "version": 3
   },
   "file_extension": ".py",
   "mimetype": "text/x-python",
   "name": "python",
   "nbconvert_exporter": "python",
   "pygments_lexer": "ipython3",
   "version": "3.7.6"
  },
  "toc": {
   "base_numbering": 1,
   "nav_menu": {},
   "number_sections": true,
   "sideBar": true,
   "skip_h1_title": false,
   "title_cell": "Table of Contents",
   "title_sidebar": "Contents",
   "toc_cell": false,
   "toc_position": {},
   "toc_section_display": true,
   "toc_window_display": false
  },
  "varInspector": {
   "cols": {
    "lenName": 16,
    "lenType": 16,
    "lenVar": 40
   },
   "kernels_config": {
    "python": {
     "delete_cmd_postfix": "",
     "delete_cmd_prefix": "del ",
     "library": "var_list.py",
     "varRefreshCmd": "print(var_dic_list())"
    },
    "r": {
     "delete_cmd_postfix": ") ",
     "delete_cmd_prefix": "rm(",
     "library": "var_list.r",
     "varRefreshCmd": "cat(var_dic_list()) "
    }
   },
   "types_to_exclude": [
    "module",
    "function",
    "builtin_function_or_method",
    "instance",
    "_Feature"
   ],
   "window_display": false
  }
 },
 "nbformat": 4,
 "nbformat_minor": 4
}
