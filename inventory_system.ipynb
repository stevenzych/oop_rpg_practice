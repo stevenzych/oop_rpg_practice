{
 "cells": [
  {
   "cell_type": "markdown",
   "metadata": {},
   "source": [
    "# Introduction\n",
    "\n",
    "***In progress.***\n",
    "\n",
    "This notebook looks at building a simple RPG inventory system with Python. We can imagine this inventory system as an in-game backpack, suitcase, or other similar object that contains up to X number of items, based on how many \"slots\" (spaces which an item can fill) the player has available. Any item takes up X number of slots."
   ]
  },
  {
   "cell_type": "code",
   "execution_count": 1,
   "metadata": {},
   "outputs": [],
   "source": [
    "class Inventory:\n",
    "    \n",
    "    def __init__(self, total_slots = 16, items = []):\n",
    "        self.total_slots = total_slots\n",
    "        self.items = items\n",
    "        self.used_slots = sum([x.slots for x in self.items])\n",
    "        self.open_slots = self.total_slots - self.used_slots\n",
    "        \n",
    "    def update_slots(self):\n",
    "        self.used_slots = sum([x.slots for x in self.items])\n",
    "        self.open_slots = self.total_slots - self.used_slots \n",
    "        \n",
    "    def add_item(self, item):\n",
    "        if item.slots < self.open_slots: \n",
    "            self.items.append(item)\n",
    "            # self.items.sort() # Can't sort Items, figure out how\n",
    "            self.update_slots()\n",
    "        else:\n",
    "            print(\"Inventory Full\")"
   ]
  },
  {
   "cell_type": "code",
   "execution_count": 2,
   "metadata": {},
   "outputs": [],
   "source": [
    "class Item:\n",
    "    \n",
    "    def __init__(self, slots = 1):\n",
    "        self.slots = slots"
   ]
  },
  {
   "cell_type": "markdown",
   "metadata": {},
   "source": [
    "Example of adding items and summing inventory:"
   ]
  },
  {
   "cell_type": "code",
   "execution_count": 3,
   "metadata": {},
   "outputs": [
    {
     "data": {
      "text/plain": [
       "0"
      ]
     },
     "execution_count": 3,
     "metadata": {},
     "output_type": "execute_result"
    }
   ],
   "source": [
    "# Two items exist but have not been added to our Inventory\n",
    "\n",
    "a = Item(2)\n",
    "b = Item(3)\n",
    "\n",
    "# See, no used slots\n",
    "\n",
    "inv = Inventory()\n",
    "inv.used_slots"
   ]
  },
  {
   "cell_type": "code",
   "execution_count": 4,
   "metadata": {},
   "outputs": [
    {
     "data": {
      "text/plain": [
       "16"
      ]
     },
     "execution_count": 4,
     "metadata": {},
     "output_type": "execute_result"
    }
   ],
   "source": [
    "# We have sixteen slots to fill\n",
    "\n",
    "inv.open_slots"
   ]
  },
  {
   "cell_type": "code",
   "execution_count": 5,
   "metadata": {},
   "outputs": [
    {
     "data": {
      "text/plain": [
       "5"
      ]
     },
     "execution_count": 5,
     "metadata": {},
     "output_type": "execute_result"
    }
   ],
   "source": [
    "# We add two Items that take up five slots total and see that reflected\n",
    "\n",
    "inv.add_item(a)\n",
    "inv.add_item(b)\n",
    "\n",
    "inv.used_slots"
   ]
  },
  {
   "cell_type": "code",
   "execution_count": 6,
   "metadata": {},
   "outputs": [
    {
     "name": "stdout",
     "output_type": "stream",
     "text": [
      "Inventory Full\n"
     ]
    }
   ],
   "source": [
    "# Let's try and overload our Inventory with a big Item\n",
    "\n",
    "c = Item(20)\n",
    "\n",
    "inv.add_item(c)"
   ]
  },
  {
   "cell_type": "code",
   "execution_count": 7,
   "metadata": {},
   "outputs": [
    {
     "data": {
      "text/plain": [
       "5"
      ]
     },
     "execution_count": 7,
     "metadata": {},
     "output_type": "execute_result"
    }
   ],
   "source": [
    "# Voila! We stopped it from overloading and stayed at the same slots\n",
    "\n",
    "inv.used_slots"
   ]
  }
 ],
 "metadata": {
  "kernelspec": {
   "display_name": "Python 3",
   "language": "python",
   "name": "python3"
  },
  "language_info": {
   "codemirror_mode": {
    "name": "ipython",
    "version": 3
   },
   "file_extension": ".py",
   "mimetype": "text/x-python",
   "name": "python",
   "nbconvert_exporter": "python",
   "pygments_lexer": "ipython3",
   "version": "3.7.6"
  },
  "toc": {
   "base_numbering": 1,
   "nav_menu": {},
   "number_sections": true,
   "sideBar": true,
   "skip_h1_title": false,
   "title_cell": "Table of Contents",
   "title_sidebar": "Contents",
   "toc_cell": false,
   "toc_position": {},
   "toc_section_display": true,
   "toc_window_display": false
  },
  "varInspector": {
   "cols": {
    "lenName": 16,
    "lenType": 16,
    "lenVar": 40
   },
   "kernels_config": {
    "python": {
     "delete_cmd_postfix": "",
     "delete_cmd_prefix": "del ",
     "library": "var_list.py",
     "varRefreshCmd": "print(var_dic_list())"
    },
    "r": {
     "delete_cmd_postfix": ") ",
     "delete_cmd_prefix": "rm(",
     "library": "var_list.r",
     "varRefreshCmd": "cat(var_dic_list()) "
    }
   },
   "types_to_exclude": [
    "module",
    "function",
    "builtin_function_or_method",
    "instance",
    "_Feature"
   ],
   "window_display": false
  }
 },
 "nbformat": 4,
 "nbformat_minor": 4
}
