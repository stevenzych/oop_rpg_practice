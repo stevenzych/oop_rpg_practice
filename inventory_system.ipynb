{
 "cells": [
  {
   "cell_type": "markdown",
   "metadata": {},
   "source": [
    "# Introduction\n",
    "\n",
    "***In progress.***\n",
    "\n",
    "This notebook looks at building a simple RPG inventory system with Python. We can imagine this inventory system as an in-game backpack, suitcase, or other similar object that contains up to X number of items, based on how many \"slots\" (spaces which an item can fill) the player has available. Any item takes up X number of slots.\n",
    "\n",
    "## Imports"
   ]
  },
  {
   "cell_type": "code",
   "execution_count": 1,
   "metadata": {},
   "outputs": [],
   "source": [
    "import numpy as np"
   ]
  },
  {
   "cell_type": "markdown",
   "metadata": {},
   "source": [
    "# `Inventory` Class"
   ]
  },
  {
   "cell_type": "code",
   "execution_count": 2,
   "metadata": {},
   "outputs": [],
   "source": [
    "class Inventory:\n",
    "    \n",
    "    def __init__(self, total_slots = 16, items = []):\n",
    "        self.total_slots = total_slots\n",
    "        self.items = items\n",
    "        self.used_slots = sum([x.slots for x in self.items])\n",
    "        self.open_slots = self.total_slots - self.used_slots\n",
    "        \n",
    "    def __len__(self):\n",
    "        return len(self.items)\n",
    "        \n",
    "    def update_slots(self):\n",
    "        self.used_slots = sum([x.slots for x in self.items])\n",
    "        self.open_slots = self.total_slots - self.used_slots \n",
    "        \n",
    "    def add_item(self, item):\n",
    "        if item.slots < self.open_slots: \n",
    "            self.items.append(item)\n",
    "            # self.items.sort() # Can't sort Items, figure out how\n",
    "            self.update_slots()\n",
    "        else:\n",
    "            print(\"Inventory Full\")\n",
    "            \n",
    "    def remove_item(self, item):\n",
    "        if item in self.items:\n",
    "            self.items.remove(item)\n",
    "        else:\n",
    "            print(\"Item Not In Inventory\")"
   ]
  },
  {
   "cell_type": "markdown",
   "metadata": {},
   "source": [
    "# `Item` Class\n",
    "\n",
    "***Needs description.***"
   ]
  },
  {
   "cell_type": "code",
   "execution_count": 24,
   "metadata": {},
   "outputs": [],
   "source": [
    "class Item:\n",
    "    \n",
    "    def __init__(self, slots = 1):\n",
    "        self.slots = slots"
   ]
  },
  {
   "cell_type": "markdown",
   "metadata": {},
   "source": [
    "# Basic Examples"
   ]
  },
  {
   "cell_type": "markdown",
   "metadata": {},
   "source": [
    "Example of adding items and summing inventory:"
   ]
  },
  {
   "cell_type": "code",
   "execution_count": 4,
   "metadata": {},
   "outputs": [
    {
     "data": {
      "text/plain": [
       "0"
      ]
     },
     "execution_count": 4,
     "metadata": {},
     "output_type": "execute_result"
    }
   ],
   "source": [
    "# Two items exist but have not been added to our Inventory\n",
    "\n",
    "a = Item(2)\n",
    "b = Item(3)\n",
    "\n",
    "# See, no used slots\n",
    "\n",
    "inv = Inventory()\n",
    "inv.used_slots"
   ]
  },
  {
   "cell_type": "code",
   "execution_count": 5,
   "metadata": {},
   "outputs": [
    {
     "data": {
      "text/plain": [
       "16"
      ]
     },
     "execution_count": 5,
     "metadata": {},
     "output_type": "execute_result"
    }
   ],
   "source": [
    "# We have sixteen slots to fill\n",
    "\n",
    "inv.open_slots"
   ]
  },
  {
   "cell_type": "code",
   "execution_count": 6,
   "metadata": {},
   "outputs": [
    {
     "data": {
      "text/plain": [
       "5"
      ]
     },
     "execution_count": 6,
     "metadata": {},
     "output_type": "execute_result"
    }
   ],
   "source": [
    "# We add two Items that take up five slots total and see that reflected\n",
    "\n",
    "inv.add_item(a)\n",
    "inv.add_item(b)\n",
    "\n",
    "inv.used_slots"
   ]
  },
  {
   "cell_type": "code",
   "execution_count": 7,
   "metadata": {},
   "outputs": [
    {
     "name": "stdout",
     "output_type": "stream",
     "text": [
      "Inventory Full\n"
     ]
    }
   ],
   "source": [
    "# Let's try and overload our Inventory with a big Item\n",
    "\n",
    "c = Item(20)\n",
    "\n",
    "inv.add_item(c)"
   ]
  },
  {
   "cell_type": "code",
   "execution_count": 8,
   "metadata": {},
   "outputs": [
    {
     "data": {
      "text/plain": [
       "5"
      ]
     },
     "execution_count": 8,
     "metadata": {},
     "output_type": "execute_result"
    }
   ],
   "source": [
    "# Voila! We stopped it from overloading and stayed at the same slots\n",
    "\n",
    "inv.used_slots"
   ]
  },
  {
   "cell_type": "markdown",
   "metadata": {},
   "source": [
    "# `Item` Subclasses\n",
    "\n",
    "***Needs description.***"
   ]
  },
  {
   "cell_type": "markdown",
   "metadata": {},
   "source": [
    "## `Potion`"
   ]
  },
  {
   "cell_type": "code",
   "execution_count": 9,
   "metadata": {},
   "outputs": [],
   "source": [
    "class Potion(Item):\n",
    "    def __init__(self, slots = 1, heal = False, effect = False):\n",
    "        super().__init__(slots)\n",
    "        self.heal = heal\n",
    "        self.effect = effect\n",
    "    \n",
    "    # Add functionality that destroys potion after one use"
   ]
  },
  {
   "cell_type": "code",
   "execution_count": 10,
   "metadata": {},
   "outputs": [],
   "source": [
    "x = Potion(1, 7, \"Speed Up\")"
   ]
  },
  {
   "cell_type": "code",
   "execution_count": 11,
   "metadata": {},
   "outputs": [
    {
     "data": {
      "text/plain": [
       "1"
      ]
     },
     "execution_count": 11,
     "metadata": {},
     "output_type": "execute_result"
    }
   ],
   "source": [
    "x.slots"
   ]
  },
  {
   "cell_type": "code",
   "execution_count": 12,
   "metadata": {},
   "outputs": [
    {
     "data": {
      "text/plain": [
       "'Speed Up'"
      ]
     },
     "execution_count": 12,
     "metadata": {},
     "output_type": "execute_result"
    }
   ],
   "source": [
    "x.effect"
   ]
  },
  {
   "cell_type": "markdown",
   "metadata": {},
   "source": [
    "## `Weapon` And Subclasses\n",
    "\n",
    "***Needs description.***"
   ]
  },
  {
   "cell_type": "code",
   "execution_count": 25,
   "metadata": {},
   "outputs": [],
   "source": [
    "class Weapon(Item):\n",
    "    def __init__(self, slots = 2, damage = 1, element = \"normal\",\n",
    "                 special = False):\n",
    "        super().__init__(slots)\n",
    "        self.damage = damage\n",
    "        self.element = element\n",
    "        self.special = special\n",
    "        \n",
    "    def do_damage(self, target):\n",
    "        if self.element in target.weak:\n",
    "            target.hp_current -= (self.damage * 2)\n",
    "        elif self.element in target.resist:\n",
    "            target.hp_current -= (self.damage // 2)\n",
    "        else:\n",
    "            target.hp_current -= self.damage"
   ]
  },
  {
   "cell_type": "code",
   "execution_count": 32,
   "metadata": {},
   "outputs": [],
   "source": [
    "class Blaster(Weapon):\n",
    "    def __init__(self, slots = 2, damage = 1, element = \"normal\",\n",
    "                 special = False, range_ = 75, mag = 8, ammo = \"steel\",\n",
    "                 accuracy = 0.6):\n",
    "        super().__init__(slots, damage, element, special)\n",
    "        self.range_ = range_\n",
    "        self.mag = mag\n",
    "        self.mag_status = mag\n",
    "        self.ammo = ammo\n",
    "        self.accuracy = accuracy\n",
    "        \n",
    "    def shoot(self, target, distance):\n",
    "        # Check if have ammo\n",
    "        if self.mag_status > 0:\n",
    "            # Check if target in range\n",
    "            if distance < self.range_:\n",
    "                # \"Roll\" to hit\n",
    "                if np.random.random() < self.accuracy:\n",
    "                    # Deal damage\n",
    "                    self.do_damage(target)\n",
    "                    # Decrement ammo\n",
    "                    self.mag_status -= 1\n",
    "                    print(\"Successful Hit\")\n",
    "                else:\n",
    "                    self.mag_status -= 1\n",
    "                    print(\"You Shot And Missed\")\n",
    "            else:\n",
    "                print(\"Target Out Of Range\")\n",
    "        else:\n",
    "            print(\"Out Of Ammo\")\n",
    "            \n",
    "    def reload(self, ammo_source):\n",
    "    # Ammo source should be Item in Inventory\n",
    "        pass"
   ]
  },
  {
   "cell_type": "markdown",
   "metadata": {},
   "source": [
    "# `Creature` Class"
   ]
  },
  {
   "cell_type": "code",
   "execution_count": 33,
   "metadata": {},
   "outputs": [],
   "source": [
    "class Creature():\n",
    "    def __init__(self, hp, resist = [], weak = []):\n",
    "        self.hp_max = hp\n",
    "        self.hp_current = hp\n",
    "        self.resist = resist\n",
    "        self.weak = weak"
   ]
  },
  {
   "cell_type": "markdown",
   "metadata": {},
   "source": [
    "Example of `Creature` and `Blaster` class interacting."
   ]
  },
  {
   "cell_type": "code",
   "execution_count": 34,
   "metadata": {},
   "outputs": [],
   "source": [
    "flame_pistol = Blaster(element = 'fire', range_ = 6)\n",
    "zombie = Creature(hp = 5, resist = [\"poison\"], weak = [\"fire\"])"
   ]
  },
  {
   "cell_type": "code",
   "execution_count": 35,
   "metadata": {},
   "outputs": [
    {
     "name": "stdout",
     "output_type": "stream",
     "text": [
      "Successful Hit\n"
     ]
    }
   ],
   "source": [
    "flame_pistol.shoot(zombie, 3)"
   ]
  },
  {
   "cell_type": "code",
   "execution_count": 36,
   "metadata": {},
   "outputs": [
    {
     "data": {
      "text/plain": [
       "3"
      ]
     },
     "execution_count": 36,
     "metadata": {},
     "output_type": "execute_result"
    }
   ],
   "source": [
    "# Notice the hp_current went down by 2, not 1, since it is weak to fire\n",
    "zombie.hp_current"
   ]
  },
  {
   "cell_type": "code",
   "execution_count": 37,
   "metadata": {},
   "outputs": [
    {
     "data": {
      "text/plain": [
       "7"
      ]
     },
     "execution_count": 37,
     "metadata": {},
     "output_type": "execute_result"
    }
   ],
   "source": [
    "flame_pistol.mag_status"
   ]
  },
  {
   "cell_type": "code",
   "execution_count": 38,
   "metadata": {},
   "outputs": [
    {
     "data": {
      "text/plain": [
       "True"
      ]
     },
     "execution_count": 38,
     "metadata": {},
     "output_type": "execute_result"
    }
   ],
   "source": [
    "isinstance(flame_pistol, Blaster)"
   ]
  }
 ],
 "metadata": {
  "kernelspec": {
   "display_name": "Python 3",
   "language": "python",
   "name": "python3"
  },
  "language_info": {
   "codemirror_mode": {
    "name": "ipython",
    "version": 3
   },
   "file_extension": ".py",
   "mimetype": "text/x-python",
   "name": "python",
   "nbconvert_exporter": "python",
   "pygments_lexer": "ipython3",
   "version": "3.7.6"
  },
  "toc": {
   "base_numbering": 1,
   "nav_menu": {},
   "number_sections": true,
   "sideBar": true,
   "skip_h1_title": false,
   "title_cell": "Table of Contents",
   "title_sidebar": "Contents",
   "toc_cell": false,
   "toc_position": {},
   "toc_section_display": true,
   "toc_window_display": false
  },
  "varInspector": {
   "cols": {
    "lenName": 16,
    "lenType": 16,
    "lenVar": 40
   },
   "kernels_config": {
    "python": {
     "delete_cmd_postfix": "",
     "delete_cmd_prefix": "del ",
     "library": "var_list.py",
     "varRefreshCmd": "print(var_dic_list())"
    },
    "r": {
     "delete_cmd_postfix": ") ",
     "delete_cmd_prefix": "rm(",
     "library": "var_list.r",
     "varRefreshCmd": "cat(var_dic_list()) "
    }
   },
   "types_to_exclude": [
    "module",
    "function",
    "builtin_function_or_method",
    "instance",
    "_Feature"
   ],
   "window_display": false
  }
 },
 "nbformat": 4,
 "nbformat_minor": 4
}
